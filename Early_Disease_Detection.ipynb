{
 "cells": [
  {
   "cell_type": "markdown",
   "id": "2dafcd8f-0fe4-4618-b3cf-3d66f4477836",
   "metadata": {},
   "source": [
    "# Early Disease Detection"
   ]
  },
  {
   "cell_type": "markdown",
   "id": "41e865d1-7046-40f1-8440-870308b5b14d",
   "metadata": {},
   "source": [
    "### 1. Importing necessary libraries"
   ]
  },
  {
   "cell_type": "code",
   "execution_count": 18,
   "id": "79328296-ca1f-4eff-aabf-0e48e33b80d4",
   "metadata": {},
   "outputs": [],
   "source": [
    "import pandas as pd\n",
    "import numpy as np\n",
    "import seaborn as sns\n",
    "import matplotlib.pyplot as plt\n",
    "from sklearn.model_selection import train_test_split\n",
    "from sklearn.preprocessing import StandardScaler, LabelEncoder\n",
    "from sklearn.metrics import accuracy_score, classification_report, confusion_matrix\n",
    "import warnings\n",
    "from sklearn.exceptions import UndefinedMetricWarning\n",
    "warnings.filterwarnings('ignore', category=UndefinedMetricWarning)"
   ]
  },
  {
   "cell_type": "markdown",
   "id": "81106350-c415-4ff3-82c3-959de242c2ca",
   "metadata": {},
   "source": [
    "### 2. Reading from the file and getting information"
   ]
  },
  {
   "cell_type": "code",
   "execution_count": 2,
   "id": "d0464f43-59f3-46ca-8bf4-a1164d03c6fc",
   "metadata": {},
   "outputs": [
    {
     "data": {
      "text/html": [
       "<div>\n",
       "<style scoped>\n",
       "    .dataframe tbody tr th:only-of-type {\n",
       "        vertical-align: middle;\n",
       "    }\n",
       "\n",
       "    .dataframe tbody tr th {\n",
       "        vertical-align: top;\n",
       "    }\n",
       "\n",
       "    .dataframe thead th {\n",
       "        text-align: right;\n",
       "    }\n",
       "</style>\n",
       "<table border=\"1\" class=\"dataframe\">\n",
       "  <thead>\n",
       "    <tr style=\"text-align: right;\">\n",
       "      <th></th>\n",
       "      <th>date</th>\n",
       "      <th>country</th>\n",
       "      <th>id</th>\n",
       "      <th>active</th>\n",
       "      <th>age</th>\n",
       "      <th>alco</th>\n",
       "      <th>ap_hi</th>\n",
       "      <th>ap_lo</th>\n",
       "      <th>cholesterol</th>\n",
       "      <th>gender</th>\n",
       "      <th>gluc</th>\n",
       "      <th>height</th>\n",
       "      <th>occupation</th>\n",
       "      <th>smoke</th>\n",
       "      <th>weight</th>\n",
       "      <th>disease_type</th>\n",
       "    </tr>\n",
       "  </thead>\n",
       "  <tbody>\n",
       "    <tr>\n",
       "      <th>0</th>\n",
       "      <td>03-05-2021</td>\n",
       "      <td>Indonesia</td>\n",
       "      <td>0</td>\n",
       "      <td>1</td>\n",
       "      <td>18393</td>\n",
       "      <td>0</td>\n",
       "      <td>110</td>\n",
       "      <td>80</td>\n",
       "      <td>1</td>\n",
       "      <td>2</td>\n",
       "      <td>1</td>\n",
       "      <td>168</td>\n",
       "      <td>Architect</td>\n",
       "      <td>0</td>\n",
       "      <td>62.0</td>\n",
       "      <td>Borderline Hypertension</td>\n",
       "    </tr>\n",
       "    <tr>\n",
       "      <th>1</th>\n",
       "      <td>05-08-2021</td>\n",
       "      <td>Malaysia</td>\n",
       "      <td>1</td>\n",
       "      <td>1</td>\n",
       "      <td>20228</td>\n",
       "      <td>0</td>\n",
       "      <td>140</td>\n",
       "      <td>90</td>\n",
       "      <td>3</td>\n",
       "      <td>1</td>\n",
       "      <td>1</td>\n",
       "      <td>156</td>\n",
       "      <td>Accountant</td>\n",
       "      <td>0</td>\n",
       "      <td>85.0</td>\n",
       "      <td>Cardiovascular Disease</td>\n",
       "    </tr>\n",
       "    <tr>\n",
       "      <th>2</th>\n",
       "      <td>13-11-2022</td>\n",
       "      <td>Indonesia</td>\n",
       "      <td>2</td>\n",
       "      <td>0</td>\n",
       "      <td>18857</td>\n",
       "      <td>0</td>\n",
       "      <td>130</td>\n",
       "      <td>70</td>\n",
       "      <td>3</td>\n",
       "      <td>1</td>\n",
       "      <td>1</td>\n",
       "      <td>165</td>\n",
       "      <td>Chef</td>\n",
       "      <td>0</td>\n",
       "      <td>64.0</td>\n",
       "      <td>Cardiovascular Disease</td>\n",
       "    </tr>\n",
       "    <tr>\n",
       "      <th>3</th>\n",
       "      <td>31-10-2018</td>\n",
       "      <td>Singapore</td>\n",
       "      <td>3</td>\n",
       "      <td>1</td>\n",
       "      <td>17623</td>\n",
       "      <td>0</td>\n",
       "      <td>150</td>\n",
       "      <td>100</td>\n",
       "      <td>1</td>\n",
       "      <td>2</td>\n",
       "      <td>1</td>\n",
       "      <td>169</td>\n",
       "      <td>Lawyer</td>\n",
       "      <td>0</td>\n",
       "      <td>82.0</td>\n",
       "      <td>Cardiovascular Disease</td>\n",
       "    </tr>\n",
       "    <tr>\n",
       "      <th>4</th>\n",
       "      <td>25-09-2020</td>\n",
       "      <td>Singapore</td>\n",
       "      <td>4</td>\n",
       "      <td>0</td>\n",
       "      <td>17474</td>\n",
       "      <td>0</td>\n",
       "      <td>100</td>\n",
       "      <td>60</td>\n",
       "      <td>1</td>\n",
       "      <td>1</td>\n",
       "      <td>1</td>\n",
       "      <td>156</td>\n",
       "      <td>Architect</td>\n",
       "      <td>0</td>\n",
       "      <td>56.0</td>\n",
       "      <td>Healthy / Low Risk</td>\n",
       "    </tr>\n",
       "  </tbody>\n",
       "</table>\n",
       "</div>"
      ],
      "text/plain": [
       "         date    country  id  active    age  alco  ap_hi  ap_lo  cholesterol  \\\n",
       "0  03-05-2021  Indonesia   0       1  18393     0    110     80            1   \n",
       "1  05-08-2021   Malaysia   1       1  20228     0    140     90            3   \n",
       "2  13-11-2022  Indonesia   2       0  18857     0    130     70            3   \n",
       "3  31-10-2018  Singapore   3       1  17623     0    150    100            1   \n",
       "4  25-09-2020  Singapore   4       0  17474     0    100     60            1   \n",
       "\n",
       "   gender  gluc  height  occupation  smoke  weight             disease_type  \n",
       "0       2     1     168   Architect      0    62.0  Borderline Hypertension  \n",
       "1       1     1     156  Accountant      0    85.0   Cardiovascular Disease  \n",
       "2       1     1     165        Chef      0    64.0   Cardiovascular Disease  \n",
       "3       2     1     169      Lawyer      0    82.0   Cardiovascular Disease  \n",
       "4       1     1     156   Architect      0    56.0       Healthy / Low Risk  "
      ]
     },
     "execution_count": 2,
     "metadata": {},
     "output_type": "execute_result"
    }
   ],
   "source": [
    "df=pd.read_csv('edd_final.csv')\n",
    "df.head()"
   ]
  },
  {
   "cell_type": "code",
   "execution_count": 3,
   "id": "140ed7f0-5e58-4607-9c49-a8fd6cf427da",
   "metadata": {},
   "outputs": [
    {
     "name": "stdout",
     "output_type": "stream",
     "text": [
      "<class 'pandas.core.frame.DataFrame'>\n",
      "RangeIndex: 70000 entries, 0 to 69999\n",
      "Data columns (total 16 columns):\n",
      " #   Column        Non-Null Count  Dtype  \n",
      "---  ------        --------------  -----  \n",
      " 0   date          70000 non-null  object \n",
      " 1   country       70000 non-null  object \n",
      " 2   id            70000 non-null  int64  \n",
      " 3   active        70000 non-null  int64  \n",
      " 4   age           70000 non-null  int64  \n",
      " 5   alco          70000 non-null  int64  \n",
      " 6   ap_hi         70000 non-null  int64  \n",
      " 7   ap_lo         70000 non-null  int64  \n",
      " 8   cholesterol   70000 non-null  int64  \n",
      " 9   gender        70000 non-null  int64  \n",
      " 10  gluc          70000 non-null  int64  \n",
      " 11  height        70000 non-null  int64  \n",
      " 12  occupation    70000 non-null  object \n",
      " 13  smoke         70000 non-null  int64  \n",
      " 14  weight        70000 non-null  float64\n",
      " 15  disease_type  70000 non-null  object \n",
      "dtypes: float64(1), int64(11), object(4)\n",
      "memory usage: 8.5+ MB\n"
     ]
    }
   ],
   "source": [
    "df.info()"
   ]
  },
  {
   "cell_type": "code",
   "execution_count": 4,
   "id": "c80d600d-dc3e-40d4-a68f-6986e4198298",
   "metadata": {},
   "outputs": [
    {
     "data": {
      "text/html": [
       "<div>\n",
       "<style scoped>\n",
       "    .dataframe tbody tr th:only-of-type {\n",
       "        vertical-align: middle;\n",
       "    }\n",
       "\n",
       "    .dataframe tbody tr th {\n",
       "        vertical-align: top;\n",
       "    }\n",
       "\n",
       "    .dataframe thead th {\n",
       "        text-align: right;\n",
       "    }\n",
       "</style>\n",
       "<table border=\"1\" class=\"dataframe\">\n",
       "  <thead>\n",
       "    <tr style=\"text-align: right;\">\n",
       "      <th></th>\n",
       "      <th>id</th>\n",
       "      <th>active</th>\n",
       "      <th>age</th>\n",
       "      <th>alco</th>\n",
       "      <th>ap_hi</th>\n",
       "      <th>ap_lo</th>\n",
       "      <th>cholesterol</th>\n",
       "      <th>gender</th>\n",
       "      <th>gluc</th>\n",
       "      <th>height</th>\n",
       "      <th>smoke</th>\n",
       "      <th>weight</th>\n",
       "    </tr>\n",
       "  </thead>\n",
       "  <tbody>\n",
       "    <tr>\n",
       "      <th>count</th>\n",
       "      <td>70000.000000</td>\n",
       "      <td>70000.000000</td>\n",
       "      <td>70000.000000</td>\n",
       "      <td>70000.000000</td>\n",
       "      <td>70000.000000</td>\n",
       "      <td>70000.000000</td>\n",
       "      <td>70000.000000</td>\n",
       "      <td>70000.000000</td>\n",
       "      <td>70000.000000</td>\n",
       "      <td>70000.000000</td>\n",
       "      <td>70000.000000</td>\n",
       "      <td>70000.000000</td>\n",
       "    </tr>\n",
       "    <tr>\n",
       "      <th>mean</th>\n",
       "      <td>49972.419900</td>\n",
       "      <td>0.803729</td>\n",
       "      <td>19468.865814</td>\n",
       "      <td>0.053771</td>\n",
       "      <td>128.817286</td>\n",
       "      <td>96.630414</td>\n",
       "      <td>1.366871</td>\n",
       "      <td>1.349571</td>\n",
       "      <td>1.226457</td>\n",
       "      <td>164.359229</td>\n",
       "      <td>0.088129</td>\n",
       "      <td>74.205690</td>\n",
       "    </tr>\n",
       "    <tr>\n",
       "      <th>std</th>\n",
       "      <td>28851.302323</td>\n",
       "      <td>0.397179</td>\n",
       "      <td>2467.251667</td>\n",
       "      <td>0.225568</td>\n",
       "      <td>154.011419</td>\n",
       "      <td>188.472530</td>\n",
       "      <td>0.680250</td>\n",
       "      <td>0.476838</td>\n",
       "      <td>0.572270</td>\n",
       "      <td>8.210126</td>\n",
       "      <td>0.283484</td>\n",
       "      <td>14.395757</td>\n",
       "    </tr>\n",
       "    <tr>\n",
       "      <th>min</th>\n",
       "      <td>0.000000</td>\n",
       "      <td>0.000000</td>\n",
       "      <td>10798.000000</td>\n",
       "      <td>0.000000</td>\n",
       "      <td>-150.000000</td>\n",
       "      <td>-70.000000</td>\n",
       "      <td>1.000000</td>\n",
       "      <td>1.000000</td>\n",
       "      <td>1.000000</td>\n",
       "      <td>55.000000</td>\n",
       "      <td>0.000000</td>\n",
       "      <td>10.000000</td>\n",
       "    </tr>\n",
       "    <tr>\n",
       "      <th>25%</th>\n",
       "      <td>25006.750000</td>\n",
       "      <td>1.000000</td>\n",
       "      <td>17664.000000</td>\n",
       "      <td>0.000000</td>\n",
       "      <td>120.000000</td>\n",
       "      <td>80.000000</td>\n",
       "      <td>1.000000</td>\n",
       "      <td>1.000000</td>\n",
       "      <td>1.000000</td>\n",
       "      <td>159.000000</td>\n",
       "      <td>0.000000</td>\n",
       "      <td>65.000000</td>\n",
       "    </tr>\n",
       "    <tr>\n",
       "      <th>50%</th>\n",
       "      <td>50001.500000</td>\n",
       "      <td>1.000000</td>\n",
       "      <td>19703.000000</td>\n",
       "      <td>0.000000</td>\n",
       "      <td>120.000000</td>\n",
       "      <td>80.000000</td>\n",
       "      <td>1.000000</td>\n",
       "      <td>1.000000</td>\n",
       "      <td>1.000000</td>\n",
       "      <td>165.000000</td>\n",
       "      <td>0.000000</td>\n",
       "      <td>72.000000</td>\n",
       "    </tr>\n",
       "    <tr>\n",
       "      <th>75%</th>\n",
       "      <td>74889.250000</td>\n",
       "      <td>1.000000</td>\n",
       "      <td>21327.000000</td>\n",
       "      <td>0.000000</td>\n",
       "      <td>140.000000</td>\n",
       "      <td>90.000000</td>\n",
       "      <td>2.000000</td>\n",
       "      <td>2.000000</td>\n",
       "      <td>1.000000</td>\n",
       "      <td>170.000000</td>\n",
       "      <td>0.000000</td>\n",
       "      <td>82.000000</td>\n",
       "    </tr>\n",
       "    <tr>\n",
       "      <th>max</th>\n",
       "      <td>99999.000000</td>\n",
       "      <td>1.000000</td>\n",
       "      <td>23713.000000</td>\n",
       "      <td>1.000000</td>\n",
       "      <td>16020.000000</td>\n",
       "      <td>11000.000000</td>\n",
       "      <td>3.000000</td>\n",
       "      <td>2.000000</td>\n",
       "      <td>3.000000</td>\n",
       "      <td>250.000000</td>\n",
       "      <td>1.000000</td>\n",
       "      <td>200.000000</td>\n",
       "    </tr>\n",
       "  </tbody>\n",
       "</table>\n",
       "</div>"
      ],
      "text/plain": [
       "                 id        active           age          alco         ap_hi  \\\n",
       "count  70000.000000  70000.000000  70000.000000  70000.000000  70000.000000   \n",
       "mean   49972.419900      0.803729  19468.865814      0.053771    128.817286   \n",
       "std    28851.302323      0.397179   2467.251667      0.225568    154.011419   \n",
       "min        0.000000      0.000000  10798.000000      0.000000   -150.000000   \n",
       "25%    25006.750000      1.000000  17664.000000      0.000000    120.000000   \n",
       "50%    50001.500000      1.000000  19703.000000      0.000000    120.000000   \n",
       "75%    74889.250000      1.000000  21327.000000      0.000000    140.000000   \n",
       "max    99999.000000      1.000000  23713.000000      1.000000  16020.000000   \n",
       "\n",
       "              ap_lo   cholesterol        gender          gluc        height  \\\n",
       "count  70000.000000  70000.000000  70000.000000  70000.000000  70000.000000   \n",
       "mean      96.630414      1.366871      1.349571      1.226457    164.359229   \n",
       "std      188.472530      0.680250      0.476838      0.572270      8.210126   \n",
       "min      -70.000000      1.000000      1.000000      1.000000     55.000000   \n",
       "25%       80.000000      1.000000      1.000000      1.000000    159.000000   \n",
       "50%       80.000000      1.000000      1.000000      1.000000    165.000000   \n",
       "75%       90.000000      2.000000      2.000000      1.000000    170.000000   \n",
       "max    11000.000000      3.000000      2.000000      3.000000    250.000000   \n",
       "\n",
       "              smoke        weight  \n",
       "count  70000.000000  70000.000000  \n",
       "mean       0.088129     74.205690  \n",
       "std        0.283484     14.395757  \n",
       "min        0.000000     10.000000  \n",
       "25%        0.000000     65.000000  \n",
       "50%        0.000000     72.000000  \n",
       "75%        0.000000     82.000000  \n",
       "max        1.000000    200.000000  "
      ]
     },
     "execution_count": 4,
     "metadata": {},
     "output_type": "execute_result"
    }
   ],
   "source": [
    "df.describe()"
   ]
  },
  {
   "cell_type": "markdown",
   "id": "8d066b36-de46-42a3-a8ab-b93a864271bb",
   "metadata": {},
   "source": [
    "### 3. Data Preprocessing"
   ]
  },
  {
   "cell_type": "code",
   "execution_count": 7,
   "id": "ae89ab89-04cd-4b78-8612-6a7043e5118a",
   "metadata": {},
   "outputs": [
    {
     "data": {
      "text/plain": [
       "date           0\n",
       "country        0\n",
       "id             0\n",
       "active         0\n",
       "age            0\n",
       "alco           0\n",
       "ap_hi          0\n",
       "ap_lo          0\n",
       "cholesterol    0\n",
       "gender         0\n",
       "gluc           0\n",
       "height         0\n",
       "occupation     0\n",
       "smoke          0\n",
       "weight         0\n",
       "disease        0\n",
       "dtype: int64"
      ]
     },
     "execution_count": 7,
     "metadata": {},
     "output_type": "execute_result"
    }
   ],
   "source": [
    "#Checking for Null values\n",
    "df.isnull().sum()"
   ]
  },
  {
   "cell_type": "code",
   "execution_count": 50,
   "id": "c0e73c42-6d42-453d-b884-e8e1425397ba",
   "metadata": {},
   "outputs": [],
   "source": [
    "#Encode categorical variables\n",
    "label_encoders = {}\n",
    "for column in ['country','occupation','disease_type']:\n",
    "    le=LabelEncoder()\n",
    "    df[column] = le.fit_transform(df[column])\n",
    "    label_encoders[column] = le\n",
    "\n",
    "# Assuming 'age' values are in days, divide by 365.25 for a more accurate conversion\n",
    "df['age'] = (df['age'] / 365.25).round().astype(int)"
   ]
  },
  {
   "cell_type": "markdown",
   "id": "4c489cb0-fc4b-4ae1-b405-5f8360316d92",
   "metadata": {},
   "source": [
    "### 4. Visualization"
   ]
  },
  {
   "cell_type": "code",
   "execution_count": 51,
   "id": "d235704c-4245-4f6d-8dad-9416603fa052",
   "metadata": {},
   "outputs": [
    {
     "data": {
      "image/png": "[encoded data removed]",
      "text/plain": [
       "<Figure size 640x480 with 1 Axes>"
      ]
     },
     "metadata": {},
     "output_type": "display_data"
    }
   ],
   "source": [
    "#Countplot\n",
    "sns.countplot(x='disease_type',data=df)\n",
    "plt.title('Distribution of Disease Possibilities')\n",
    "plt.show()"
   ]
  },
  {
   "cell_type": "markdown",
   "id": "3b5ae162-bd59-47ea-be9d-31ae3b9467e5",
   "metadata": {},
   "source": [
    "### 5. Selecting features and target, splitting into training and testing sets and feature scaling"
   ]
  },
  {
   "cell_type": "code",
   "execution_count": 52,
   "id": "e9984f3f-0a1d-4a97-9411-ee30f65f9096",
   "metadata": {},
   "outputs": [],
   "source": [
    "#Features and target\n",
    "x=df.drop(['id','disease_type','date','country','occupation'],axis=1)\n",
    "y=df['disease_type']\n",
    "\n",
    "#Split data into train and test sets\n",
    "x_train,x_test,y_train,y_test=train_test_split(x,y,test_size=0.3,random_state=0)\n",
    "\n",
    "#Feature scaling\n",
    "scaler = StandardScaler()\n",
    "x_train=scaler.fit_transform(x_train)\n",
    "x_test=scaler.transform(x_test)"
   ]
  },
  {
   "cell_type": "markdown",
   "id": "0fd0e130-c0d9-4dd1-b52c-8e4cbfec4f02",
   "metadata": {},
   "source": [
    "### 6. Logistic Regression"
   ]
  },
  {
   "cell_type": "code",
   "execution_count": 53,
   "id": "bf65d9ad-cd9c-4d94-952f-17bef743e28e",
   "metadata": {},
   "outputs": [],
   "source": [
    "from sklearn.linear_model import LogisticRegression\n",
    "\n",
    "logreg=LogisticRegression(max_iter=1000)\n",
    "logreg.fit(x_train,y_train)\n",
    "logreg_pred=logreg.predict(x_test)\n",
    "logreg_accuracy = accuracy_score(y_test,logreg_pred)"
   ]
  },
  {
   "cell_type": "markdown",
   "id": "a14c2f20-2f8d-4bf5-9b16-6c5f638a09f6",
   "metadata": {},
   "source": [
    "### 6(a). Displaying Accuracy and Performance Metrics of Logistic Regression Model"
   ]
  },
  {
   "cell_type": "code",
   "execution_count": 54,
   "id": "dcb59d6c-0d52-4567-ba2f-e0ccec325b69",
   "metadata": {},
   "outputs": [
    {
     "name": "stdout",
     "output_type": "stream",
     "text": [
      "Logistic Regression Accuracy: 68.35\n",
      "\n",
      "Logistic Regression Classification Report:\n",
      "              precision    recall  f1-score   support\n",
      "\n",
      "           0       0.00      0.00      0.00        13\n",
      "           1       0.56      0.21      0.30       195\n",
      "           2       0.61      0.73      0.67      5858\n",
      "           3       0.71      0.77      0.74     10736\n",
      "           4       0.64      0.84      0.73       233\n",
      "           5       0.80      0.71      0.75      1875\n",
      "           6       0.48      0.28      0.35       350\n",
      "           7       0.40      0.00      0.00      1292\n",
      "           8       0.66      0.17      0.27       448\n",
      "\n",
      "    accuracy                           0.68     21000\n",
      "   macro avg       0.54      0.41      0.42     21000\n",
      "weighted avg       0.67      0.68      0.66     21000\n",
      "\n"
     ]
    }
   ],
   "source": [
    "print(f'Logistic Regression Accuracy: {logreg_accuracy*100:.2f}')\n",
    "print('\\nLogistic Regression Classification Report:')\n",
    "print(classification_report(y_test,logreg_pred))"
   ]
  },
  {
   "cell_type": "markdown",
   "id": "15907910-2741-472f-bf2d-bbd239a98528",
   "metadata": {},
   "source": [
    "### 7. KNN (K-Nearest-Neighbour) Algorithm"
   ]
  },
  {
   "cell_type": "code",
   "execution_count": 55,
   "id": "1d35e619-9e5b-4e05-b6d5-49f0f08f8b09",
   "metadata": {},
   "outputs": [],
   "source": [
    "from sklearn.neighbors import KNeighborsClassifier\n",
    "knn=KNeighborsClassifier()\n",
    "knn.fit(x_train,y_train)\n",
    "knn_pred=knn.predict(x_test)\n",
    "knn_accuracy = accuracy_score(y_test, knn_pred)"
   ]
  },
  {
   "cell_type": "markdown",
   "id": "1c7d3ef4-98eb-4029-a2df-903251c266a3",
   "metadata": {},
   "source": [
    "### 7(a). Display Accuracy and Performance Metrics of KNN Model"
   ]
  },
  {
   "cell_type": "code",
   "execution_count": 56,
   "id": "52a3a8cb-4099-4b3a-acbd-eeef45aade66",
   "metadata": {},
   "outputs": [
    {
     "name": "stdout",
     "output_type": "stream",
     "text": [
      "K-Nearest Neighbors Accuracy:58.18\n",
      "\n",
      "K-Nearest Neighbors Classification Report:\n",
      "              precision    recall  f1-score   support\n",
      "\n",
      "           0       0.00      0.00      0.00        13\n",
      "           1       0.32      0.24      0.27       195\n",
      "           2       0.48      0.67      0.56      5858\n",
      "           3       0.67      0.68      0.68     10736\n",
      "           4       0.53      0.48      0.51       233\n",
      "           5       0.67      0.30      0.41      1875\n",
      "           6       0.39      0.14      0.21       350\n",
      "           7       0.15      0.02      0.03      1292\n",
      "           8       0.51      0.41      0.46       448\n",
      "\n",
      "    accuracy                           0.58     21000\n",
      "   macro avg       0.41      0.33      0.35     21000\n",
      "weighted avg       0.57      0.58      0.56     21000\n",
      "\n"
     ]
    }
   ],
   "source": [
    "print(f'K-Nearest Neighbors Accuracy:{knn_accuracy*100:.2f}')\n",
    "print('\\nK-Nearest Neighbors Classification Report:')\n",
    "print(classification_report(y_test, knn_pred))"
   ]
  },
  {
   "cell_type": "markdown",
   "id": "9a425a1e-4029-4f5e-9c9f-ceeb32277cba",
   "metadata": {},
   "source": [
    "### 7(b). Plotting Confusion Matrix for KNN Model"
   ]
  },
  {
   "cell_type": "code",
   "execution_count": 57,
   "id": "f9a1442f-d6ac-404e-bbcc-38527b177283",
   "metadata": {},
   "outputs": [
    {
     "data": {
      "image/png": "[encoded data removed]",
      "text/plain": [
       "<Figure size 700x500 with 2 Axes>"
      ]
     },
     "metadata": {},
     "output_type": "display_data"
    }
   ],
   "source": [
    "plt.figure(figsize=(7,5))\n",
    "sns.heatmap(confusion_matrix(y_test, knn_pred), annot =True, fmt='d', cmap='Blues')\n",
    "plt.title('K-nearest Neighbor confusion matrix')\n",
    "plt.show()"
   ]
  },
  {
   "cell_type": "markdown",
   "id": "f076d268-3226-4937-ac5a-60107e5b8a44",
   "metadata": {},
   "source": [
    "### 8. Decision trees"
   ]
  },
  {
   "cell_type": "code",
   "execution_count": 58,
   "id": "b969a3d4-9273-4458-9142-00d30fd7780a",
   "metadata": {},
   "outputs": [],
   "source": [
    "from sklearn.tree import DecisionTreeClassifier\n",
    "decision_tree=DecisionTreeClassifier()\n",
    "decision_tree.fit(x_train,y_train)\n",
    "decision_tree_pred=decision_tree.predict(x_test)\n",
    "decision_tree_accuracy=accuracy_score(y_test, decision_tree_pred)"
   ]
  },
  {
   "cell_type": "markdown",
   "id": "f56ed14a-56ee-4f83-b9e7-45b694d9ef81",
   "metadata": {},
   "source": [
    "### 8(a). Display Accuracy and Performance Metrics of Decision Tree Model"
   ]
  },
  {
   "cell_type": "code",
   "execution_count": 59,
   "id": "c3bfba27-db1a-4463-b3bc-ea44e9545340",
   "metadata": {},
   "outputs": [
    {
     "name": "stdout",
     "output_type": "stream",
     "text": [
      "Decision tree accuracy: 66.12\n",
      "\n",
      "Decision Tree Classification Report:\n",
      "              precision    recall  f1-score   support\n",
      "\n",
      "           0       0.70      0.54      0.61        13\n",
      "           1       0.72      0.69      0.71       195\n",
      "           2       0.69      0.71      0.70      5858\n",
      "           3       0.67      0.66      0.67     10736\n",
      "           4       0.70      0.67      0.68       233\n",
      "           5       0.84      0.80      0.82      1875\n",
      "           6       0.34      0.35      0.34       350\n",
      "           7       0.30      0.32      0.31      1292\n",
      "           8       0.65      0.67      0.66       448\n",
      "\n",
      "    accuracy                           0.66     21000\n",
      "   macro avg       0.62      0.60      0.61     21000\n",
      "weighted avg       0.66      0.66      0.66     21000\n",
      "\n"
     ]
    }
   ],
   "source": [
    "print(f'Decision tree accuracy: {decision_tree_accuracy*100:.2f}')\n",
    "print('\\nDecision Tree Classification Report:')\n",
    "print(classification_report(y_test, decision_tree_pred))"
   ]
  },
  {
   "cell_type": "markdown",
   "id": "b27a2b93-b15b-4d10-bd68-86a39c37dd78",
   "metadata": {},
   "source": [
    "### 8(b). Plotting Confusion Matrix for Decision Tree Model"
   ]
  },
  {
   "cell_type": "code",
   "execution_count": 58,
   "id": "38cae359-0097-4ecb-b2df-f978a10c1249",
   "metadata": {},
   "outputs": [
    {
     "data": {
      "image/png": "[encoded data removed]",
      "text/plain": [
       "<Figure size 700x500 with 2 Axes>"
      ]
     },
     "metadata": {},
     "output_type": "display_data"
    }
   ],
   "source": [
    "plt.figure(figsize=(7,5))\n",
    "sns.heatmap(confusion_matrix(y_test, decision_tree_pred), annot=True, fmt='d', cmap='Blues')\n",
    "plt.title('Decision Tree Confusion Matrix')\n",
    "plt.show()"
   ]
  },
  {
   "cell_type": "markdown",
   "id": "e95baa86-a508-40c2-affe-b377d1738388",
   "metadata": {},
   "source": [
    "### 9. Support Vector Machine (SVM)"
   ]
  },
  {
   "cell_type": "code",
   "execution_count": 60,
   "id": "2ddc76e9-9a72-40ae-9461-9cef28e255bf",
   "metadata": {},
   "outputs": [],
   "source": [
    "from sklearn.svm import SVC\n",
    "svm=SVC()\n",
    "svm.fit(x_train, y_train)\n",
    "svm_pred=svm.predict(x_test)\n",
    "svm_accuracy=accuracy_score(y_test, svm_pred)"
   ]
  },
  {
   "cell_type": "markdown",
   "id": "d12ff9be-06e8-4361-9d00-8eedc7083f13",
   "metadata": {},
   "source": [
    "### 9(a). Display Accuracy and Performance Metrics of Support Vector Machine Model"
   ]
  },
  {
   "cell_type": "code",
   "execution_count": 61,
   "id": "eb0a81dc-4dae-440a-a63f-8baa469feddc",
   "metadata": {},
   "outputs": [
    {
     "name": "stdout",
     "output_type": "stream",
     "text": [
      "SVM accuracy: 68.32\n",
      "\n",
      "SVM Classification Report:\n",
      "              precision    recall  f1-score   support\n",
      "\n",
      "           0       0.00      0.00      0.00        13\n",
      "           1       0.59      0.15      0.24       195\n",
      "           2       0.60      0.76      0.67      5858\n",
      "           3       0.72      0.77      0.75     10736\n",
      "           4       0.65      0.43      0.52       233\n",
      "           5       0.81      0.68      0.74      1875\n",
      "           6       0.67      0.02      0.03       350\n",
      "           7       1.00      0.00      0.00      1292\n",
      "           8       0.65      0.46      0.54       448\n",
      "\n",
      "    accuracy                           0.68     21000\n",
      "   macro avg       0.63      0.36      0.39     21000\n",
      "weighted avg       0.71      0.68      0.65     21000\n",
      "\n"
     ]
    }
   ],
   "source": [
    "print(f'SVM accuracy: {svm_accuracy*100:.2f}')\n",
    "print('\\nSVM Classification Report:')\n",
    "print(classification_report(y_test, svm_pred))"
   ]
  },
  {
   "cell_type": "markdown",
   "id": "915fc55b-ba60-4048-94e8-6606bd434668",
   "metadata": {},
   "source": [
    "### 9(b). Plotting Confusion Matrix for Support Vector Machine Model"
   ]
  },
  {
   "cell_type": "code",
   "execution_count": 30,
   "id": "00a3c79d-bfd6-401b-8e3e-21489f4977ae",
   "metadata": {},
   "outputs": [
    {
     "data": {
      "image/png": "[encoded data removed]",
      "text/plain": [
       "<Figure size 700x500 with 2 Axes>"
      ]
     },
     "metadata": {},
     "output_type": "display_data"
    }
   ],
   "source": [
    "plt.figure(figsize=(7,5))\n",
    "sns.heatmap(confusion_matrix(y_test,svm_pred), annot=True, fmt='d', cmap='Blues')\n",
    "plt.title('Support Vector Machine Confusion Matrix')\n",
    "plt.show()"
   ]
  },
  {
   "cell_type": "markdown",
   "id": "93caa750-3e76-47cd-8463-a579c052411f",
   "metadata": {},
   "source": [
    "### 10. Checking all the model accuracies"
   ]
  },
  {
   "cell_type": "code",
   "execution_count": 62,
   "id": "52db67de-8886-4810-a3cc-b0929413a3ec",
   "metadata": {},
   "outputs": [
    {
     "name": "stdout",
     "output_type": "stream",
     "text": [
      "Logistic Regression Accuracy: 68.35%\n",
      "K-Nearest Neighbors Accuracy: 58.18%\n",
      "Decision Tree Accuracy: 66.12%\n",
      "Support Vector Machine Accuracy: 68.32%\n"
     ]
    }
   ],
   "source": [
    "model_accuracies = {\n",
    "    'Logistic Regression': logreg_accuracy,\n",
    "    'K-Nearest Neighbors': knn_accuracy,\n",
    "    'Decision Tree': decision_tree_accuracy,\n",
    "    'Support Vector Machine': svm_accuracy,\n",
    "}\n",
    "\n",
    "#Display accuracies\n",
    "for model, accuracy in model_accuracies.items():\n",
    "    print(f'{model} Accuracy: {accuracy*100:.2f}%')"
   ]
  },
  {
   "cell_type": "markdown",
   "id": "ed873b4c-bfa3-4019-8099-ff4f3490d132",
   "metadata": {},
   "source": [
    "### 11. Predicitng Disease Type for New User through User Input"
   ]
  },
  {
   "cell_type": "code",
   "execution_count": 45,
   "id": "8dfd9f0d-53c6-46be-bd0c-a1be4285512f",
   "metadata": {},
   "outputs": [],
   "source": [
    "# Mapping from label encoder to disease type according to the given database\n",
    "disease_labels = {\n",
    "    0: \"At Risk (Age, Smoking, Alcohol)\",\n",
    "    1: \"Borderline High Cholesterol\",\n",
    "    2: \"Borderline Hypertension\",\n",
    "    3: \"Cardiovascular Disease\",\n",
    "    4: \"Diabetes\",\n",
    "    5: \"Healthy/Low Risk\",\n",
    "    6: \"High Cholesterol\",\n",
    "    7: \"Hypertension\",\n",
    "    8: \"Prediabetes\"\n",
    "}\n",
    "\n",
    "def predict_disease():\n",
    "    print(\"Please enter the following details:\")\n",
    "    active = int(input(\"Active (0/1): \"))\n",
    "    age = int(input(\"Age (years): \"))\n",
    "    alco = int(input(\"Alcohol consumption (0/1): \"))\n",
    "    ap_hi = int(input(\"Systolic BP (ap_hi): \"))\n",
    "    ap_lo = int(input(\"Diastolic BP (ap_lo): \"))\n",
    "    cholesterol = int(input(\"Cholesterol (1-normal, 2-above normal, 3-well above normal): \"))\n",
    "    gender = int(input(\"Gender (1-male, 2-female): \"))\n",
    "    gluc = int(input(\"Glucose (1-normal, 2-above normal, 3-well above normal): \"))\n",
    "    height = int(input(\"Height (cm): \"))\n",
    "    smoke = int(input(\"Smoke (0/1): \"))\n",
    "    weight = int(input(\"Weight (kg): \"))\n",
    "\n",
    "    # Arrange input as a 2D array\n",
    "    user_data = np.array([[active, age, alco, ap_hi, ap_lo, cholesterol, gender, gluc, height, smoke, weight]])\n",
    "    prediction = logreg.predict(user_data)\n",
    "    disease_type = disease_labels.get(prediction[0], \"Unknown Disease Type\")\n",
    "    print(f\"According to the entered information, the person is prone/likely to have: {disease_type}\")"
   ]
  },
  {
   "cell_type": "code",
   "execution_count": 64,
   "id": "62ea365c-26b4-4f06-b2ae-a7748c786f1a",
   "metadata": {},
   "outputs": [
    {
     "name": "stdout",
     "output_type": "stream",
     "text": [
      "Please enter the following details:\n"
     ]
    },
    {
     "name": "stdin",
     "output_type": "stream",
     "text": [
      "Active (0/1):  0\n",
      "Age (years):  50\n",
      "Alcohol consumption (0/1):  1\n",
      "Systolic BP (ap_hi):  140\n",
      "Diastolic BP (ap_lo):  120\n",
      "Cholesterol (1-normal, 2-above normal, 3-well above normal):  3\n",
      "Gender (1-male, 2-female):  2\n",
      "Glucose (1-normal, 2-above normal, 3-well above normal):  1\n",
      "Height (cm):  190\n",
      "Smoke (0/1):  1\n",
      "Weight (kg):  80\n"
     ]
    },
    {
     "name": "stdout",
     "output_type": "stream",
     "text": [
      "According to the entered information, the person is prone/likely to have: Cardiovascular Disease\n"
     ]
    }
   ],
   "source": [
    "predict_disease()"
   ]
  },
  {
   "cell_type": "code",
   "execution_count": null,
   "id": "f0910b5f-20bb-4e8d-b9da-4ad43abd836b",
   "metadata": {},
   "outputs": [],
   "source": []
  }
 ],
 "metadata": {
  "kernelspec": {
   "display_name": "Python [conda env:base] *",
   "language": "python",
   "name": "conda-base-py"
  },
  "language_info": {
   "codemirror_mode": {
    "name": "ipython",
    "version": 3
   },
   "file_extension": ".py",
   "mimetype": "text/x-python",
   "name": "python",
   "nbconvert_exporter": "python",
   "pygments_lexer": "ipython3",
   "version": "3.12.7"
  }
 },
 "nbformat": 4,
 "nbformat_minor": 5
}
